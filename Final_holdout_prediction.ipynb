{
 "cells": [
  {
   "cell_type": "code",
   "execution_count": 1,
   "metadata": {},
   "outputs": [],
   "source": [
    "import pandas as pd\n",
    "pd.set_option('display.max_columns', 100)\n",
    "import numpy as np\n",
    "from sklearn.preprocessing import PolynomialFeatures\n",
    "import pickle"
   ]
  },
  {
   "cell_type": "markdown",
   "metadata": {},
   "source": [
    "## Step 1: Read in hold out data, scalers, and best model"
   ]
  },
  {
   "cell_type": "code",
   "execution_count": 2,
   "metadata": {},
   "outputs": [],
   "source": [
    "df = pd.read_csv('Resources/kc_house_data_test_features.csv', index_col=0)\n",
    "#final_scaler = pickle.load(open('scaler.pickle','rb'))\n",
    "final_model = pickle.load(open('model.pickle','rb'))"
   ]
  },
  {
   "cell_type": "markdown",
   "metadata": {},
   "source": [
    "## Step 2: Feature Engineering for holdout set"
   ]
  },
  {
   "cell_type": "markdown",
   "metadata": {},
   "source": [
    "Remember we have to perform the same transformations on our holdout data (feature engineering, extreme values, and scaling) that we performed on the original data."
   ]
  },
  {
   "cell_type": "code",
   "execution_count": 3,
   "metadata": {},
   "outputs": [],
   "source": [
    "##RUN CELL ONLY ONCE!\n",
    "\n",
    "# Create a new column 'neighbors_compared' with sqft_living - sqft_living15\n",
    "df['neighbors_compared'] = df.sqft_living - df.sqft_living15\n",
    "\n",
    "# Fixing outliers\n",
    "bathroom_median = df.bathrooms.median()\n",
    "df.loc[df.bathrooms == 0, 'bathrooms'] = np.nan\n",
    "df.fillna(bathroom_median,inplace=True)\n",
    "\n",
    "# Changing large bedroom values to '7'     \n",
    "df['bedrooms'] = df['bedrooms'].apply(lambda x : 7 if x > 6 else x)\n",
    "\n",
    "# Create dummy columns for 'condition2'\n",
    "df['condition2'] = np.where(df['condition']<=2, 0, 1)\n",
    "df = pd.get_dummies(df, columns=['condition2'])\n",
    "\n",
    "# Create dummy columns using 'waterfront'\n",
    "df = pd.get_dummies(df, columns=['waterfront'])\n",
    "\n",
    "# Create dummy variable 'neighbors_compared_dummy' y/n\n",
    "df['neighbors_compared_dummy'] = np.where((df['sqft_living'] > df['sqft_living15']), 1, 0)\n",
    "\n",
    "#Create dummy columns using 'neighbors_compared_dummy'\n",
    "df2 = pd.get_dummies(df, columns=['neighbors_compared_dummy'])"
   ]
  },
  {
   "cell_type": "code",
   "execution_count": 4,
   "metadata": {},
   "outputs": [],
   "source": [
    "# Create Bins for Bathrooms, \n",
    "cut_labels = [1, 2, 3, 4, 5]\n",
    "cut_bins = [0, 1.25, 3, 4, 5, 8]\n",
    "df['cut_bathrooms'] = pd.cut(df['bathrooms'], bins=cut_bins, labels=cut_labels)\n",
    "df['cut_bathrooms'] = pd.to_numeric(df['cut_bathrooms'],errors='coerce') \n",
    "\n",
    "# Create Bins for Grade 1-4, 5-7, 8-13\n",
    "cut_labels2 = [1, 2, 3]\n",
    "cut_bins2 = [0, 4, 7, 13]\n",
    "df['cut_grade'] = pd.cut(df['grade'], bins=cut_bins2, labels=cut_labels2)\n",
    "df['cut_grade'] = pd.to_numeric(df['cut_grade'],errors='coerce')"
   ]
  },
  {
   "cell_type": "code",
   "execution_count": 6,
   "metadata": {},
   "outputs": [],
   "source": [
    "# Chosen Features for Final Model\n",
    "features = ['bathrooms', 'sqft_living', 'condition', 'grade', 'sqft_above', 'sqft_living15', 'bedrooms', 'lat', 'neighbors_compared', 'condition2_1', 'waterfront_1']\n",
    "df_features = df[features]\n",
    "\n",
    "poly= PolynomialFeatures(degree=2, include_bias=False)\n",
    "poly_data = poly.fit_transform(df_features)\n",
    "poly_columns = poly.get_feature_names(df_features.columns)\n",
    "df_poly = pd.DataFrame(poly_data, columns=poly_columns)"
   ]
  },
  {
   "cell_type": "code",
   "execution_count": 7,
   "metadata": {},
   "outputs": [],
   "source": [
    "selected_columns = ['bathrooms',\n",
    " 'sqft_living',\n",
    " 'grade',\n",
    " 'sqft_above',\n",
    " 'sqft_living15',\n",
    " 'bedrooms',\n",
    " 'lat',\n",
    " 'bathrooms^2',\n",
    " 'bathrooms sqft_living',\n",
    " 'bathrooms condition',\n",
    " 'bathrooms grade',\n",
    " 'bathrooms sqft_above',\n",
    " 'bathrooms sqft_living15',\n",
    " 'bathrooms bedrooms',\n",
    " 'bathrooms lat',\n",
    " 'bathrooms neighbors_compared',\n",
    " 'bathrooms condition2_1',\n",
    " 'sqft_living^2',\n",
    " 'sqft_living condition',\n",
    " 'sqft_living grade',\n",
    " 'sqft_living sqft_above',\n",
    " 'sqft_living sqft_living15',\n",
    " 'sqft_living bedrooms',\n",
    " 'sqft_living lat',\n",
    " 'sqft_living neighbors_compared',\n",
    " 'sqft_living condition2_1',\n",
    " 'condition grade',\n",
    " 'condition sqft_above',\n",
    " 'condition sqft_living15',\n",
    " 'grade^2',\n",
    " 'grade sqft_above',\n",
    " 'grade sqft_living15',\n",
    " 'grade bedrooms',\n",
    " 'grade lat',\n",
    " 'grade neighbors_compared',\n",
    " 'grade condition2_1',\n",
    " 'sqft_above^2',\n",
    " 'sqft_above sqft_living15',\n",
    " 'sqft_above bedrooms',\n",
    " 'sqft_above lat',\n",
    " 'sqft_above neighbors_compared',\n",
    " 'sqft_above condition2_1',\n",
    " 'sqft_living15^2',\n",
    " 'sqft_living15 bedrooms',\n",
    " 'sqft_living15 lat',\n",
    " 'sqft_living15 condition2_1',\n",
    " 'bedrooms^2',\n",
    " 'bedrooms lat',\n",
    " 'bedrooms condition2_1',\n",
    " 'lat^2']"
   ]
  },
  {
   "cell_type": "markdown",
   "metadata": {},
   "source": [
    "## Step 3: Predict the holdout set"
   ]
  },
  {
   "cell_type": "code",
   "execution_count": 8,
   "metadata": {},
   "outputs": [],
   "source": [
    "final_pred = final_model.predict(df_poly[selected_columns])"
   ]
  },
  {
   "cell_type": "markdown",
   "metadata": {},
   "source": [
    "## Step 4: Export your predictions"
   ]
  },
  {
   "cell_type": "code",
   "execution_count": 9,
   "metadata": {},
   "outputs": [],
   "source": [
    "final_prediction = pd.DataFrame(final_pred)\n",
    "final_prediction.to_csv('housing_preds_cierra_andaur.csv')"
   ]
  },
  {
   "cell_type": "code",
   "execution_count": 10,
   "metadata": {},
   "outputs": [
    {
     "data": {
      "text/plain": [
       "array([4.28071032e+09, 4.28071032e+09, 4.25567923e+09, 4.29058731e+09,\n",
       "       4.24119527e+09])"
      ]
     },
     "execution_count": 10,
     "metadata": {},
     "output_type": "execute_result"
    }
   ],
   "source": [
    "final_pred[:5]"
   ]
  }
 ],
 "metadata": {
  "kernelspec": {
   "display_name": "Python 3",
   "language": "python",
   "name": "python3"
  },
  "language_info": {
   "codemirror_mode": {
    "name": "ipython",
    "version": 3
   },
   "file_extension": ".py",
   "mimetype": "text/x-python",
   "name": "python",
   "nbconvert_exporter": "python",
   "pygments_lexer": "ipython3",
   "version": "3.6.9"
  }
 },
 "nbformat": 4,
 "nbformat_minor": 2
}
